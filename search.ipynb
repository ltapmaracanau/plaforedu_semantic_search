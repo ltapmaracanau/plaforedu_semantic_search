{
 "cells": [
  {
   "cell_type": "code",
   "execution_count": 23,
   "metadata": {},
   "outputs": [],
   "source": [
    "import torch\n",
    "from sentence_transformers import SentenceTransformer\n",
    "import numpy as np\n",
    "import faiss\n",
    "import json"
   ]
  },
  {
   "cell_type": "code",
   "execution_count": 24,
   "metadata": {},
   "outputs": [],
   "source": [
    "class SemanticSearchEngine:\n",
    "    def __init__(self, model_name='ricardo-filho/bert-base-portuguese-cased-nli-assin-2', use_gpu=torch.cuda.is_available()):\n",
    "        self.model = SentenceTransformer(model_name)\n",
    "        if use_gpu:\n",
    "            self.model = self.model.to('cuda') \n",
    "        self.dimension = self.model.get_sentence_embedding_dimension()\n",
    "        self.index = faiss.IndexFlatIP(self.dimension)\n",
    "        self.id_to_data = {}\n",
    "\n",
    "    def add_entries(self, entries):\n",
    "        ids, descriptions = zip(*entries)\n",
    "        embeddings = self.model.encode(descriptions, convert_to_tensor=True, normalize_embeddings=True)\n",
    "        if torch.cuda.is_available():\n",
    "            embeddings = embeddings.cpu()\n",
    "        embeddings = embeddings.numpy()\n",
    "        self.index.add(embeddings)\n",
    "        for entry_id, description in zip(ids, descriptions):\n",
    "            self.id_to_data[entry_id] = description\n",
    "\n",
    "    def search(self, query_text, top_k=5):\n",
    "        query_embedding = self.model.encode([query_text], convert_to_tensor=True, normalize_embeddings=True)\n",
    "        if torch.cuda.is_available():\n",
    "            query_embedding = query_embedding.cpu()\n",
    "        query_embedding = query_embedding.numpy()\n",
    "        distances, indices = self.index.search(query_embedding, top_k)\n",
    "        results = [(list(self.id_to_data.keys())[idx], self.id_to_data[list(self.id_to_data.keys())[idx]], distance) for idx, distance in zip(indices[0], distances[0])]\n",
    "        return sorted(results, key=lambda x: x[2], reverse=True)\n",
    "\n",
    "    def save_index(self, file_path):\n",
    "        faiss.write_index(self.index, file_path + '.index')\n",
    "        with open(file_path + '.json', 'w') as f:\n",
    "            json.dump(self.id_to_data, f)\n",
    "\n",
    "    def load_index(self, file_path):\n",
    "        self.index = faiss.read_index(file_path + '.index')\n",
    "        with open(file_path + '.json', 'r') as f:\n",
    "            self.id_to_data = json.load(f)"
   ]
  },
  {
   "cell_type": "code",
   "execution_count": 12,
   "metadata": {},
   "outputs": [],
   "source": [
    "with open('Cursos.json', 'r') as f:\n",
    "    data = json.load(f)\n",
    "\n",
    "courses = [(entry['id'], entry['description']) for entry in data['data']]"
   ]
  },
  {
   "cell_type": "code",
   "execution_count": 14,
   "metadata": {},
   "outputs": [],
   "source": [
    "engine.add_entries(courses)"
   ]
  },
  {
   "cell_type": "code",
   "execution_count": 15,
   "metadata": {},
   "outputs": [],
   "source": [
    "engine.save_index('cursos')"
   ]
  },
  {
   "cell_type": "code",
   "execution_count": 27,
   "metadata": {},
   "outputs": [
    {
     "data": {
      "text/plain": [
       "[('bfae1ed6-dfa1-41e3-9793-704587b4e8ed',\n",
       "  'Introdução à legislação para pessoa com deficiência. Padrões e Normas sobre acessibilidade para pessoas com deficiência intelectual. Tecnologia Assistiva para pessoa com deficiência intelectual. Material Didático Acessível à Pessoas com Deficiência Intelectual.',\n",
       "  0.5925292),\n",
       " ('bae6feff-3be9-4517-b777-da1c5b489d91',\n",
       "  'Conceituação de surdez e conceituação e classificação de deficiência auditiva. Principais patologias e prevenção da deficiência auditiva na infância. Formação de conceitos e construção de conhecimentos: alunos surdez ou deficiência auditiva. Aprendizagem de alunos com surdez. Procedimentos didáticos - Metodológicos: classe comum e atendimento educacional especializado: ensino em Libras, ensino de Língua Portuguesa na modalidade escrita. Tecnologias Educacionais Assistivas para surdez e deficiência auditiva.',\n",
       "  0.5920518),\n",
       " ('8a5b501d-4c05-46a6-bd20-09c088d803f1',\n",
       "  'A audiodescrição é um recurso de acessibilidade comunicacional que aumenta a compreensão de pessoas com deficiência visual, englobando e ampliando a acessibilidade para o entendimento de pessoas com deficiência intelectual, idosos e disléxicos, colaborando com a construção de uma sociedade inclusiva. O curso apresenta recursos de audiodescrição, especialmente em sites, redes sociais e publicações.',\n",
       "  0.5823584),\n",
       " ('ed0a5e57-60e6-4fec-84a6-d8acd6080468',\n",
       "  'Conhecendo o universo dos surdos; Conhecimento para atuação em sala de aula; Introdução básica para comunicação em Libras professor - aluno.',\n",
       "  0.5743055),\n",
       " ('ad5e664c-090b-4c2c-a85c-651cb1145ce5',\n",
       "  'O curso tem o objetivo de promover a compreensão dos conceitos e princípios básicos sobre Acessibilidade na Comunicação, assim como problematizar a (DE)ficiência com foco na eficiência de cada indivíduo e do coletivo na interação por meio de recursos como: a Audiodescrição para pessoas com deficiência visual; a Língua Brasileira de Sinais (Libras) e as Legendas para Surdos e Ensurdecidos (LSE). Pretende-se desencadear a reflexão a partir da fala de convidados, textos e discussões sobre o público-alvo e especificidades de cada recurso e, mais ainda, como produtos concebidos acessíveis podem beneficiar a todos, incluindo as pessoas com deficiência. Para tanto, o curso conta com recursos e ferramentas de acessibilidade na comunicação como a audiodescrição para as pessoas com deficiência visual, janela de Libras e legendas para surdos e ensurdecidos, mas ressaltamos que estes recursos auxiliam a todos, promovendo novas formas de experiência e mesmo sensibilização. ',\n",
       "  0.57068866),\n",
       " ('6ba87bcf-b53e-41f7-87f8-59f900290d28',\n",
       "  'Aborda aspectos históricos e clínicos da deficiência auditiva e surdez como fundamentos básicos para se compreender o contexto da educação de surdos. Será abordado a identidade surda na perspectiva da diferença surda, entendo que cada sujeito é único e que se comunicam e aprendem de formas diferentes. Discutiremos as diferentes concepções filosóficas da educação de surdos, os aspectos legais que sustentam os direitos das pessoas surdas, como por exemplo a educação bilíngue.',\n",
       "  0.5514867),\n",
       " ('e58d8903-194a-46fe-ac65-96c718b04871',\n",
       "  'Este curso apresenta a Libras de forma básica e introdutória, de modo que o aluno tenha acesso aos primeiros passos para a comunicação em Libras. Abordaremos pontos que tratam da cultura e identidade surdas e a sinalização em si, além de estratégias de comunicação que auxiliam no contato entre surdos e ouvintes.',\n",
       "  0.54758894),\n",
       " ('03054354-9b05-4be5-bf8d-cd79bbf247ec',\n",
       "  'Apresenta novas perspectivas linguísticas da Libras para quem possui ótima fluência nesta língua no contexto da Libras para Tradução a ponto de aprimorar seus conhecimentos linguísticos visando a formação de Tradutor e Intérprete de Libras e obter novos recursos técnicos para afiar sua segunda língua.',\n",
       "  0.53730994),\n",
       " ('52c2a7a3-6043-4b55-ba33-b10f3fc9ecac',\n",
       "  'O curso tem por objetivo reconhecer a importância da Língua Brasileira de Sinais – Libras e sua utilização como forma de promoção à acessibilidade no ambiente educacional e  proporcionar aos cursistas o uso da Libras, para que sejam capazes de desenvolver uma comunicação inclusiva junto às pessoas com surdez nos espaços educacionais.',\n",
       "  0.5356345),\n",
       " ('9d83791a-63fc-438c-8372-f530b844ec01',\n",
       "  'O papel que o tradutor e intérprete de Libras desempenha é fundamental para promover a acessibilidade a comunidade surda, e através dessa disciplina você aprenderá um desses nichos comunicativos. No decorrer dos estudos, você conhecerá a respeito das plataformas virtuais e metodologias utilizadas no contexto audiovisual, tendo a ênfase em acessibilidade através da tecnologia midiática, como a janela de Libras, legendas e outros recursos.',\n",
       "  0.5335644)]"
      ]
     },
     "execution_count": 27,
     "metadata": {},
     "output_type": "execute_result"
    }
   ],
   "source": [
    "results = engine.search('curso para surdos', 10)\n",
    "results"
   ]
  }
 ],
 "metadata": {
  "kernelspec": {
   "display_name": "base",
   "language": "python",
   "name": "python3"
  },
  "language_info": {
   "codemirror_mode": {
    "name": "ipython",
    "version": 3
   },
   "file_extension": ".py",
   "mimetype": "text/x-python",
   "name": "python",
   "nbconvert_exporter": "python",
   "pygments_lexer": "ipython3",
   "version": "3.10.13"
  }
 },
 "nbformat": 4,
 "nbformat_minor": 2
}
